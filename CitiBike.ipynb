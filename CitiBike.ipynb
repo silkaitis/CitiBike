{
 "cells": [
  {
   "cell_type": "code",
   "execution_count": 39,
   "metadata": {
    "collapsed": true
   },
   "outputs": [],
   "source": [
    "#Import needed modules\n",
    "import requests\n",
    "import pandas as pd\n",
    "import matplotlib.pyplot as plt\n",
    "%matplotlib inline"
   ]
  },
  {
   "cell_type": "code",
   "execution_count": 3,
   "metadata": {
    "collapsed": false
   },
   "outputs": [],
   "source": [
    "#Pull JSON data from CitiBike website\n",
    "r = requests.get('http://www.citibikenyc.com/stations/json')"
   ]
  },
  {
   "cell_type": "code",
   "execution_count": 30,
   "metadata": {
    "collapsed": true
   },
   "outputs": [],
   "source": [
    "#Identify data keys\n",
    "keys=[]\n",
    "for station in r.json()['stationBeanList']:\n",
    "    for k in station.keys():\n",
    "        if k not in dkeys:\n",
    "            keys.append(k)"
   ]
  },
  {
   "cell_type": "code",
   "execution_count": 31,
   "metadata": {
    "collapsed": true
   },
   "outputs": [],
   "source": [
    "#Pull JSON data into Pandas DataFrame\n",
    "bikedata=pd.io.json.json_normalize(r.json()['stationBeanList'])"
   ]
  },
  {
   "cell_type": "code",
   "execution_count": 53,
   "metadata": {
    "collapsed": false
   },
   "outputs": [
    {
     "data": {
      "text/html": [
       "<div>\n",
       "<table border=\"1\" class=\"dataframe\">\n",
       "  <thead>\n",
       "    <tr style=\"text-align: right;\">\n",
       "      <th></th>\n",
       "      <th>altitude</th>\n",
       "      <th>availableBikes</th>\n",
       "      <th>availableDocks</th>\n",
       "      <th>city</th>\n",
       "      <th>id</th>\n",
       "      <th>landMark</th>\n",
       "      <th>lastCommunicationTime</th>\n",
       "      <th>latitude</th>\n",
       "      <th>location</th>\n",
       "      <th>longitude</th>\n",
       "      <th>postalCode</th>\n",
       "      <th>stAddress1</th>\n",
       "      <th>stAddress2</th>\n",
       "      <th>stationName</th>\n",
       "      <th>statusKey</th>\n",
       "      <th>statusValue</th>\n",
       "      <th>testStation</th>\n",
       "      <th>totalDocks</th>\n",
       "    </tr>\n",
       "  </thead>\n",
       "  <tbody>\n",
       "    <tr>\n",
       "      <th>0</th>\n",
       "      <td></td>\n",
       "      <td>20</td>\n",
       "      <td>19</td>\n",
       "      <td></td>\n",
       "      <td>72</td>\n",
       "      <td></td>\n",
       "      <td>2016-07-20 06:31:50 PM</td>\n",
       "      <td>40.767272</td>\n",
       "      <td></td>\n",
       "      <td>-73.993929</td>\n",
       "      <td></td>\n",
       "      <td>W 52 St &amp; 11 Ave</td>\n",
       "      <td></td>\n",
       "      <td>W 52 St &amp; 11 Ave</td>\n",
       "      <td>1</td>\n",
       "      <td>In Service</td>\n",
       "      <td>False</td>\n",
       "      <td>39</td>\n",
       "    </tr>\n",
       "    <tr>\n",
       "      <th>1</th>\n",
       "      <td></td>\n",
       "      <td>17</td>\n",
       "      <td>15</td>\n",
       "      <td></td>\n",
       "      <td>79</td>\n",
       "      <td></td>\n",
       "      <td>2016-07-20 06:32:06 PM</td>\n",
       "      <td>40.719116</td>\n",
       "      <td></td>\n",
       "      <td>-74.006667</td>\n",
       "      <td></td>\n",
       "      <td>Franklin St &amp; W Broadway</td>\n",
       "      <td></td>\n",
       "      <td>Franklin St &amp; W Broadway</td>\n",
       "      <td>1</td>\n",
       "      <td>In Service</td>\n",
       "      <td>False</td>\n",
       "      <td>33</td>\n",
       "    </tr>\n",
       "    <tr>\n",
       "      <th>2</th>\n",
       "      <td></td>\n",
       "      <td>16</td>\n",
       "      <td>9</td>\n",
       "      <td></td>\n",
       "      <td>82</td>\n",
       "      <td></td>\n",
       "      <td>2016-07-20 06:30:17 PM</td>\n",
       "      <td>40.711174</td>\n",
       "      <td></td>\n",
       "      <td>-74.000165</td>\n",
       "      <td></td>\n",
       "      <td>St James Pl &amp; Pearl St</td>\n",
       "      <td></td>\n",
       "      <td>St James Pl &amp; Pearl St</td>\n",
       "      <td>1</td>\n",
       "      <td>In Service</td>\n",
       "      <td>False</td>\n",
       "      <td>27</td>\n",
       "    </tr>\n",
       "    <tr>\n",
       "      <th>3</th>\n",
       "      <td></td>\n",
       "      <td>47</td>\n",
       "      <td>14</td>\n",
       "      <td></td>\n",
       "      <td>83</td>\n",
       "      <td></td>\n",
       "      <td>2016-07-20 06:31:25 PM</td>\n",
       "      <td>40.683826</td>\n",
       "      <td></td>\n",
       "      <td>-73.976323</td>\n",
       "      <td></td>\n",
       "      <td>Atlantic Ave &amp; Fort Greene Pl</td>\n",
       "      <td></td>\n",
       "      <td>Atlantic Ave &amp; Fort Greene Pl</td>\n",
       "      <td>1</td>\n",
       "      <td>In Service</td>\n",
       "      <td>False</td>\n",
       "      <td>62</td>\n",
       "    </tr>\n",
       "    <tr>\n",
       "      <th>4</th>\n",
       "      <td></td>\n",
       "      <td>3</td>\n",
       "      <td>35</td>\n",
       "      <td></td>\n",
       "      <td>116</td>\n",
       "      <td></td>\n",
       "      <td>2016-07-20 06:32:29 PM</td>\n",
       "      <td>40.741776</td>\n",
       "      <td></td>\n",
       "      <td>-74.001497</td>\n",
       "      <td></td>\n",
       "      <td>W 17 St &amp; 8 Ave</td>\n",
       "      <td></td>\n",
       "      <td>W 17 St &amp; 8 Ave</td>\n",
       "      <td>1</td>\n",
       "      <td>In Service</td>\n",
       "      <td>False</td>\n",
       "      <td>39</td>\n",
       "    </tr>\n",
       "  </tbody>\n",
       "</table>\n",
       "</div>"
      ],
      "text/plain": [
       "  altitude  availableBikes  availableDocks city   id landMark  \\\n",
       "0                       20              19        72            \n",
       "1                       17              15        79            \n",
       "2                       16               9        82            \n",
       "3                       47              14        83            \n",
       "4                        3              35       116            \n",
       "\n",
       "    lastCommunicationTime   latitude location  longitude postalCode  \\\n",
       "0  2016-07-20 06:31:50 PM  40.767272          -73.993929              \n",
       "1  2016-07-20 06:32:06 PM  40.719116          -74.006667              \n",
       "2  2016-07-20 06:30:17 PM  40.711174          -74.000165              \n",
       "3  2016-07-20 06:31:25 PM  40.683826          -73.976323              \n",
       "4  2016-07-20 06:32:29 PM  40.741776          -74.001497              \n",
       "\n",
       "                      stAddress1 stAddress2                    stationName  \\\n",
       "0               W 52 St & 11 Ave                          W 52 St & 11 Ave   \n",
       "1       Franklin St & W Broadway                  Franklin St & W Broadway   \n",
       "2         St James Pl & Pearl St                    St James Pl & Pearl St   \n",
       "3  Atlantic Ave & Fort Greene Pl             Atlantic Ave & Fort Greene Pl   \n",
       "4                W 17 St & 8 Ave                           W 17 St & 8 Ave   \n",
       "\n",
       "   statusKey statusValue testStation  totalDocks  \n",
       "0          1  In Service       False          39  \n",
       "1          1  In Service       False          33  \n",
       "2          1  In Service       False          27  \n",
       "3          1  In Service       False          62  \n",
       "4          1  In Service       False          39  "
      ]
     },
     "execution_count": 53,
     "metadata": {},
     "output_type": "execute_result"
    }
   ],
   "source": [
    "bikedata.head()"
   ]
  },
  {
   "cell_type": "code",
   "execution_count": 43,
   "metadata": {
    "collapsed": false
   },
   "outputs": [
    {
     "data": {
      "text/plain": [
       "<matplotlib.text.Text at 0xb460d30>"
      ]
     },
     "execution_count": 43,
     "metadata": {},
     "output_type": "execute_result"
    },
    {
     "data": {
      "image/png": "[encoded data removed]",
      "text/plain": [
       "<matplotlib.figure.Figure at 0xb3896a0>"
      ]
     },
     "metadata": {},
     "output_type": "display_data"
    },
    {
     "data": {
      "image/png": "[encoded data removed]",
      "text/plain": [
       "<matplotlib.figure.Figure at 0xac8f4a8>"
      ]
     },
     "metadata": {},
     "output_type": "display_data"
    },
    {
     "data": {
      "image/png": "[encoded data removed]",
      "text/plain": [
       "<matplotlib.figure.Figure at 0xb428630>"
      ]
     },
     "metadata": {},
     "output_type": "display_data"
    }
   ],
   "source": [
    "#Probe the dataset\n",
    "bikedata['availableBikes'].hist()\n",
    "plt.title('Available Bikes per Station')\n",
    "plt.xlabel('Number of Bikes')\n",
    "plt.ylabel('Frequency')\n",
    "\n",
    "plt.figure()\n",
    "bikedata['availableDocks'].hist()\n",
    "plt.title('Available Docks per Station')\n",
    "plt.xlabel('Number of Docks')\n",
    "plt.ylabel('Frequency')\n",
    "\n",
    "plt.figure()\n",
    "bikedata['totalDocks'].hist()\n",
    "plt.title('Total Docks per Station')\n",
    "plt.xlabel('Number of Docks')\n",
    "plt.ylabel('Frequency')\n",
    "\n",
    "#Thoughts on histograms\n",
    "#Each variable has a different distribution which is expected for multiple\n",
    "#reasons.  There are different constraints and use models depending on the variable\n",
    "#being considered.  For example, totalDocks appears normally distributed which can\n",
    "#be explained by a number of reasons.  CitiBike member are most likely not \n",
    "#evenly spread across the service area.  Therefore, stations would \n",
    "#need different levels of capacity to manage the demand.  \n",
    "#Another example, availableBikes appears exponentially distributed due to the\n",
    "#physical lower limit (there can't be negative bikes) and high utilization\n",
    "#by CitiBike members.  If CitiBike had very low utilization, the distribution\n",
    "#may match totalDocks more closely.\n"
   ]
  },
  {
   "cell_type": "code",
   "execution_count": 65,
   "metadata": {
    "collapsed": false
   },
   "outputs": [
    {
     "name": "stdout",
     "output_type": "stream",
     "text": [
      "Number of Stations: 525\n",
      "Number of Test Stations: 0\n"
     ]
    }
   ],
   "source": [
    "print('Number of Stations: %i' % bikedata['id'].count())\n",
    "num_testStat=0\n",
    "for status in bikedata['testStation']:\n",
    "    if status == True:\n",
    "        num_testStat+=1\n",
    "print('Number of Test Stations: %i' % num_testStat)"
   ]
  }
 ],
 "metadata": {
  "kernelspec": {
   "display_name": "Python [Root]",
   "language": "python",
   "name": "Python [Root]"
  },
  "language_info": {
   "codemirror_mode": {
    "name": "ipython",
    "version": 3
   },
   "file_extension": ".py",
   "mimetype": "text/x-python",
   "name": "python",
   "nbconvert_exporter": "python",
   "pygments_lexer": "ipython3",
   "version": "3.5.1"
  }
 },
 "nbformat": 4,
 "nbformat_minor": 0
}
