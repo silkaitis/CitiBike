{
 "cells": [
  {
   "cell_type": "code",
   "execution_count": 1,
   "metadata": {
    "collapsed": true
   },
   "outputs": [],
   "source": [
    "import requests\n",
    "import collections\n",
    "import time\n",
    "\n",
    "import sqlite3 as lite\n",
    "\n",
    "from dateutil.parser import parse\n",
    "from IPython.core.display import clear_output"
   ]
  },
  {
   "cell_type": "code",
   "execution_count": 2,
   "metadata": {
    "collapsed": true
   },
   "outputs": [],
   "source": [
    "#Connect to database\n",
    "con = lite.connect('citibike.db')\n",
    "cur = con.cursor()\n",
    "\n",
    "#Create bike data dictionary\n",
    "bikeid=collections.defaultdict(int)"
   ]
  },
  {
   "cell_type": "code",
   "execution_count": null,
   "metadata": {
    "collapsed": false
   },
   "outputs": [],
   "source": [
    "for itr in range(0,60):\n",
    "    #Pull JSON from CitiBike\n",
    "    r = requests.get('http://www.citibikenyc.com/stations/json')\n",
    "    \n",
    "    print('Iteration: %d' % itr)\n",
    "    #Pull execution time\n",
    "    exec_time = parse(r.json()['executionTime'])\n",
    "\n",
    "    #Create dictionary for available bikes per station\n",
    "    for station in r.json()['stationBeanList']:\n",
    "        bikeid[station['id']] = station['availableBikes']\n",
    "\n",
    "    with con:\n",
    "        #Insert execution time into database\n",
    "        cur.execute('INSERT INTO available_bikes (execution_time) VALUES (?)', \n",
    "                    (exec_time.strftime(\"%Y%m%d_%H%M%S\"),))\n",
    "\n",
    "        #Insert available bikes per station into database\n",
    "        for key,value in bikeid.items():\n",
    "            cur.execute('UPDATE available_bikes SET _' \n",
    "                        + str(key) \n",
    "                        + ' = ' \n",
    "                        + str(value) \n",
    "                        + \" WHERE execution_time = \" \n",
    "                        + \"'\" \n",
    "                        + exec_time.strftime(\"%Y%m%d_%H%M%S\")\n",
    "                        + \"'\"\n",
    "                        + \";\")\n",
    "    \n",
    "    #Pause for 60 seconds till next iteration\n",
    "    time.sleep(60)\n",
    "    clear_output()"
   ]
  }
 ],
 "metadata": {
  "anaconda-cloud": {},
  "kernelspec": {
   "display_name": "Python 2",
   "language": "python",
   "name": "python2"
  },
  "language_info": {
   "codemirror_mode": {
    "name": "ipython",
    "version": 2
   },
   "file_extension": ".py",
   "mimetype": "text/x-python",
   "name": "python",
   "nbconvert_exporter": "python",
   "pygments_lexer": "ipython2",
   "version": "2.7.12"
  }
 },
 "nbformat": 4,
 "nbformat_minor": 0
}
