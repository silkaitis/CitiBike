{
 "cells": [
  {
   "cell_type": "code",
   "execution_count": 1,
   "metadata": {
    "collapsed": true
   },
   "outputs": [],
   "source": [
    "import sqlite3 as lite\n",
    "import requests\n",
    "import collections\n",
    "import time\n",
    "from dateutil.parser import parse"
   ]
  },
  {
   "cell_type": "code",
   "execution_count": 2,
   "metadata": {
    "collapsed": true
   },
   "outputs": [],
   "source": [
    "#Connect to database\n",
    "con = lite.connect('citibike.db')\n",
    "cur = con.cursor()\n",
    "\n",
    "#Create bike data dictionary\n",
    "bikeid=collections.defaultdict(int)"
   ]
  },
  {
   "cell_type": "code",
   "execution_count": 3,
   "metadata": {
    "collapsed": false
   },
   "outputs": [
    {
     "name": "stdout",
     "output_type": "stream",
     "text": [
      "Iteration: 0\n",
      "Iteration: 1\n",
      "Iteration: 2\n",
      "Iteration: 3\n",
      "Iteration: 4\n",
      "Iteration: 5\n",
      "Iteration: 6\n",
      "Iteration: 7\n",
      "Iteration: 8\n",
      "Iteration: 9\n",
      "Iteration: 10\n",
      "Iteration: 11\n",
      "Iteration: 12\n",
      "Iteration: 13\n",
      "Iteration: 14\n",
      "Iteration: 15\n",
      "Iteration: 16\n",
      "Iteration: 17\n",
      "Iteration: 18\n",
      "Iteration: 19\n",
      "Iteration: 20\n",
      "Iteration: 21\n",
      "Iteration: 22\n",
      "Iteration: 23\n",
      "Iteration: 24\n",
      "Iteration: 25\n",
      "Iteration: 26\n",
      "Iteration: 27\n",
      "Iteration: 28\n",
      "Iteration: 29\n",
      "Iteration: 30\n",
      "Iteration: 31\n",
      "Iteration: 32\n",
      "Iteration: 33\n",
      "Iteration: 34\n",
      "Iteration: 35\n",
      "Iteration: 36\n",
      "Iteration: 37\n",
      "Iteration: 38\n",
      "Iteration: 39\n",
      "Iteration: 40\n",
      "Iteration: 41\n",
      "Iteration: 42\n",
      "Iteration: 43\n",
      "Iteration: 44\n",
      "Iteration: 45\n",
      "Iteration: 46\n",
      "Iteration: 47\n",
      "Iteration: 48\n",
      "Iteration: 49\n",
      "Iteration: 50\n",
      "Iteration: 51\n",
      "Iteration: 52\n",
      "Iteration: 53\n",
      "Iteration: 54\n",
      "Iteration: 55\n",
      "Iteration: 56\n",
      "Iteration: 57\n",
      "Iteration: 58\n",
      "Iteration: 59\n"
     ]
    }
   ],
   "source": [
    "for itr in range(0,60):\n",
    "    #Pull JSON from CitiBike\n",
    "    r = requests.get('http://www.citibikenyc.com/stations/json')\n",
    "    \n",
    "    print('Iteration: %d' % itr)\n",
    "    #Pull execution time\n",
    "    exec_time = parse(r.json()['executionTime'])\n",
    "\n",
    "    #Create dictionary for available bikes per station\n",
    "    for station in r.json()['stationBeanList']:\n",
    "        bikeid[station['id']] = station['availableBikes']\n",
    "\n",
    "    with con:\n",
    "        #Insert execution time into database\n",
    "        cur.execute('INSERT INTO available_bikes (execution_time) VALUES (?)', (exec_time.strftime(\"%Y%m%d_%H%M%S\"),))\n",
    "\n",
    "        #Insert available bikes per station into database\n",
    "        for key,value in bikeid.items():\n",
    "            cur.execute('UPDATE available_bikes SET _' + str(key) + ' = ' + str(value) + \" WHERE execution_time = \" + \"'\"+exec_time.strftime(\"%Y%m%d_%H%M%S\")+\"'\"+\";\")\n",
    "    \n",
    "    #Pause for 60 seconds till next iteration\n",
    "    time.sleep(60)"
   ]
  }
 ],
 "metadata": {
  "anaconda-cloud": {},
  "kernelspec": {
   "display_name": "Python [Root]",
   "language": "python",
   "name": "Python [Root]"
  },
  "language_info": {
   "codemirror_mode": {
    "name": "ipython",
    "version": 2
   },
   "file_extension": ".py",
   "mimetype": "text/x-python",
   "name": "python",
   "nbconvert_exporter": "python",
   "pygments_lexer": "ipython2",
   "version": "2.7.11"
  }
 },
 "nbformat": 4,
 "nbformat_minor": 0
}
