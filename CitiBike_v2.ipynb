{
 "cells": [
  {
   "cell_type": "code",
   "execution_count": 15,
   "metadata": {
    "collapsed": true
   },
   "outputs": [],
   "source": [
    "#Import needed modules\n",
    "import requests\n",
    "import collections\n",
    "import time\n",
    "\n",
    "import pandas as pd\n",
    "import matplotlib.pyplot as plt\n",
    "import sqlite3 as lite\n",
    "\n",
    "from datetime import datetime\n",
    "from dateutil.parser import parse\n",
    "\n",
    "%matplotlib inline"
   ]
  },
  {
   "cell_type": "code",
   "execution_count": 16,
   "metadata": {
    "collapsed": false
   },
   "outputs": [],
   "source": [
    "#Pull JSON data from CitiBike website\n",
    "r = requests.get('http://www.citibikenyc.com/stations/json')\n",
    "\n",
    "#Pull JSON data into Pandas DataFrame\n",
    "bikedata=pd.io.json.json_normalize(r.json()['stationBeanList'])"
   ]
  },
  {
   "cell_type": "code",
   "execution_count": 17,
   "metadata": {
    "collapsed": false
   },
   "outputs": [],
   "source": [
    "#Build SQLite database with reference table and bike data table\n",
    "con = lite.connect('citibike.db')\n",
    "cur = con.cursor()\n",
    "\n",
    "#Create base sql query to insert data\n",
    "sql = \"INSERT INTO citibike_reference (id, totalDocks, city, altitude, \"\\\n",
    "        \"stAddress2, longitude, postalCode, testStation, stAddress1, stationName, \"\\\n",
    "        \"landMark, latitude, location) VALUES (?,?,?,?,?,?,?,?,?,?,?,?,?)\"\n",
    "        \n",
    "#Collect station ids\n",
    "id_list=bikedata['id'].tolist()\n",
    "id_list=['_'+str(x)+' INT' for x in id_list]\n",
    "\n",
    "with con:\n",
    "    cur.execute('DROP TABLE IF EXISTS citibike_reference')\n",
    "    cur.execute('DROP TABLE IF EXISTS available_bikes')\n",
    "    \n",
    "    cur.execute('CREATE TABLE citibike_reference (id INT PRIMARY KEY, totalDocks INT, '\\\n",
    "                                                  'city TEXT, altitude INT, stAddress2 TEXT, longitude NUMERIC, '\\\n",
    "                                                  'postalCode TEXT, testStation TEXT, stAddress1 TEXT, stationName TEXT, '\\\n",
    "                                                  'landMark TEXT, latitude NUMERIC, location TEXT)')\n",
    "    \n",
    "    for station in r.json()['stationBeanList']:\n",
    "        cur.execute(sql,(station['id'],station['totalDocks'],station['city'],\n",
    "                         station['altitude'],station['stAddress2'],station['longitude'],\n",
    "                         station['postalCode'],station['testStation'],station['stAddress1'],\n",
    "                         station['stationName'],station['landMark'],station['latitude'],\n",
    "                         station['location']))\n",
    "    \n",
    "    cur.execute(\"CREATE TABLE available_bikes (execution_time INT, \" + \", \".join(id_list)+\");\")"
   ]
  },
  {
   "cell_type": "code",
   "execution_count": 18,
   "metadata": {
    "collapsed": false
   },
   "outputs": [
    {
     "name": "stdout",
     "output_type": "stream",
     "text": [
      "Iteration: 0\n",
      "Iteration: 1\n",
      "Iteration: 2\n",
      "Iteration: 3\n",
      "Iteration: 4\n",
      "Iteration: 5\n",
      "Iteration: 6\n",
      "Iteration: 7\n",
      "Iteration: 8\n",
      "Iteration: 9\n",
      "Iteration: 10\n",
      "Iteration: 11\n",
      "Iteration: 12\n",
      "Iteration: 13\n",
      "Iteration: 14\n",
      "Iteration: 15\n",
      "Iteration: 16\n",
      "Iteration: 17\n",
      "Iteration: 18\n",
      "Iteration: 19\n",
      "Iteration: 20\n",
      "Iteration: 21\n",
      "Iteration: 22\n",
      "Iteration: 23\n",
      "Iteration: 24\n",
      "Iteration: 25\n",
      "Iteration: 26\n",
      "Iteration: 27\n",
      "Iteration: 28\n",
      "Iteration: 29\n",
      "Iteration: 30\n",
      "Iteration: 31\n",
      "Iteration: 32\n",
      "Iteration: 33\n",
      "Iteration: 34\n",
      "Iteration: 35\n",
      "Iteration: 36\n",
      "Iteration: 37\n",
      "Iteration: 38\n",
      "Iteration: 39\n",
      "Iteration: 40\n",
      "Iteration: 41\n",
      "Iteration: 42\n",
      "Iteration: 43\n",
      "Iteration: 44\n",
      "Iteration: 45\n",
      "Iteration: 46\n",
      "Iteration: 47\n",
      "Iteration: 48\n",
      "Iteration: 49\n",
      "Iteration: 50\n",
      "Iteration: 51\n",
      "Iteration: 52\n",
      "Iteration: 53\n",
      "Iteration: 54\n",
      "Iteration: 55\n",
      "Iteration: 56\n",
      "Iteration: 57\n",
      "Iteration: 58\n",
      "Iteration: 59\n"
     ]
    }
   ],
   "source": [
    "bikeid=collections.defaultdict(int)\n",
    "\n",
    "for itr in range(0,60):\n",
    "    print('Iteration: %d' % itr)\n",
    "    #Pull JSON data from CitiBike website\n",
    "    r = requests.get('http://www.citibikenyc.com/stations/json')\n",
    "    \n",
    "    #Pull execution time\n",
    "    exec_time = parse(r.json()['executionTime'])\n",
    "\n",
    "    #Create dictionary for available bikes per station\n",
    "    for station in r.json()['stationBeanList']:\n",
    "        bikeid[station['id']] = station['availableBikes']\n",
    "\n",
    "    with con:\n",
    "        #Insert execution time into database\n",
    "        cur.execute('INSERT INTO available_bikes (execution_time) VALUES (?)', \n",
    "                        (exec_time.strftime(\"%Y%m%d_%H%M%S\"),))\n",
    "\n",
    "        #Insert available bikes per station into database\n",
    "        for key,value in bikeid.items():\n",
    "            cur.execute('UPDATE available_bikes SET _' + str(key) + ' = '\\\n",
    "                        + str(value) + \" WHERE execution_time = \"\\\n",
    "                        + \"'\"+exec_time.strftime(\"%Y%m%d_%H%M%S\")+\"'\"+\";\")\n",
    "    \n",
    "    #Pause for 60 seconds till next iteration\n",
    "    time.sleep(1)"
   ]
  },
  {
   "cell_type": "code",
   "execution_count": 19,
   "metadata": {
    "collapsed": false
   },
   "outputs": [
    {
     "name": "stdout",
     "output_type": "stream",
     "text": [
      "The most active station is station id 515 at W 43 St & 10 Ave (latitude: 40.76009437 longitude: -73.99461843)\n",
      "\n",
      "With 40 bicycles coming and going in the hour between 2016-07-28 20:38:26 and 2016-07-28 20:38:26\n"
     ]
    },
    {
     "data": {
      "text/plain": [
       "<matplotlib.text.Text at 0xb9c25c0>"
      ]
     },
     "execution_count": 19,
     "metadata": {},
     "output_type": "execute_result"
    },
    {
     "data": {
      "image/png": "[encoded data removed]",
      "text/plain": [
       "<matplotlib.figure.Figure at 0xa37eba8>"
      ]
     },
     "metadata": {},
     "output_type": "display_data"
    }
   ],
   "source": [
    "#Pull bike data from database\n",
    "bikedata = pd.read_sql_query('SELECT * FROM available_bikes '\\\n",
    "                             'ORDER BY execution_time',con,index_col='execution_time')\n",
    "\n",
    "#Find station activity over an hour\n",
    "hourdelta=collections.defaultdict(int)\n",
    "\n",
    "for key,val in bikedata.iteritems():      \n",
    "    hourdelta[int(key.replace(\"_\",\"\"))] = sum([abs(val[i]-val[i-1]) for i in range(1,len(val))])\n",
    "\n",
    "#Pull specific station data from database\n",
    "data=cur.execute('SELECT id, stationname, latitude, longitude '\\\n",
    "                 'FROM citibike_reference WHERE id = ?', (max(hourdelta, key=hourdelta.get),)).fetchone()\n",
    "\n",
    "#Print results on most active station\n",
    "print('The most active station is station id %s at %s (latitude: %s longitude: %s)\\n' % data)\n",
    "print('With %d bicycles coming and going in the hour between %s and %s' \n",
    "          % (hourdelta[data[0]],datetime.strptime(bikedata.index[0],\"%Y%m%d_%H%M%S\"),\n",
    "             datetime.strptime(bikedata.index[1],\"%Y%m%d_%H%M%S\")))\n",
    "\n",
    "#Plot station data\n",
    "plt.bar(hourdelta.keys(),hourdelta.values())\n",
    "plt.title('Station Activity')\n",
    "plt.xlabel('Station Number')\n",
    "plt.ylabel('Number of Bikes')"
   ]
  },
  {
   "cell_type": "code",
   "execution_count": 20,
   "metadata": {
    "collapsed": false
   },
   "outputs": [],
   "source": [
    "#Station 490 is located near several major factilities; \n",
    "#Moynihan Station, Madison Sqaure Garden and Penn Station.\n",
    "#There were no events at Madison Square Garden or \n",
    "#Moynihan Station on the 22nd.  There are other event spaces \n",
    "#in the area, such as a movie theater, but it's hard to imagine \n",
    "#these smaller venues drawing enough people to generate this level\n",
    "#of activity.  Penn Station is the main railroad station for NYC \n",
    "#and serves 600,000 commuters a day (Source: Wikipedia).\n",
    "#Data was pulled at 6 PM on a Friday which is most likely \n",
    "#the (or near the) peak hour for commuters in a given day.  \n",
    "#There are 25,000 commuters per hour assuming the commuter \n",
    "#volume is evenly distributed.  Therefore, only 1.1% of commuters \n",
    "#in that hour need to rent or return a bike to make this station \n",
    "#the most active.  Realistically, commuter volume won't be evenly \n",
    "#distributed but this assumption is sufficient for now.  \n",
    "#This simple assessment doesn't account for individuals\n",
    "#using the bike station but not commuting via Penn Station."
   ]
  }
 ],
 "metadata": {
  "anaconda-cloud": {},
  "kernelspec": {
   "display_name": "Python [Root]",
   "language": "python",
   "name": "Python [Root]"
  },
  "language_info": {
   "codemirror_mode": {
    "name": "ipython",
    "version": 2
   },
   "file_extension": ".py",
   "mimetype": "text/x-python",
   "name": "python",
   "nbconvert_exporter": "python",
   "pygments_lexer": "ipython2",
   "version": "2.7.11"
  }
 },
 "nbformat": 4,
 "nbformat_minor": 0
}
