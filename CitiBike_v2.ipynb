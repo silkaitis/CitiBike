{
 "cells": [
  {
   "cell_type": "code",
   "execution_count": 6,
   "metadata": {
    "collapsed": true
   },
   "outputs": [],
   "source": [
    "#Import needed modules\n",
    "import requests\n",
    "import pandas as pd\n",
    "import matplotlib.pyplot as plt\n",
    "import sqlite3 as lite\n",
    "from datetime import datetime\n",
    "from dateutil.parser import parse\n",
    "import collections\n",
    "%matplotlib inline"
   ]
  },
  {
   "cell_type": "code",
   "execution_count": 2,
   "metadata": {
    "collapsed": false
   },
   "outputs": [],
   "source": [
    "#Pull JSON data from CitiBike website\n",
    "r = requests.get('http://www.citibikenyc.com/stations/json')\n",
    "\n",
    "#Pull JSON data into Pandas DataFrame\n",
    "bikedata=pd.io.json.json_normalize(r.json()['stationBeanList'])"
   ]
  },
  {
   "cell_type": "code",
   "execution_count": 3,
   "metadata": {
    "collapsed": false
   },
   "outputs": [],
   "source": [
    "#Build SQLite database with reference table and bike data table\n",
    "con = lite.connect('citibike.db')\n",
    "cur = con.cursor()\n",
    "\n",
    "sql = \"INSERT INTO citibike_reference (id, totalDocks, city, altitude, stAddress2, longitude, postalCode, testStation, stAddress1, stationName, landMark, latitude, location) VALUES (?,?,?,?,?,?,?,?,?,?,?,?,?)\"\n",
    "idList=bikedata['id'].tolist()\n",
    "idList=['_'+str(x)+' INT' for x in idList]\n",
    "with con:\n",
    "    cur.execute('CREATE TABLE citibike_reference (id INT PRIMARY KEY, totalDocks INT, city TEXT, altitude INT, stAddress2 TEXT, longitude NUMERIC, postalCode TEXT, testStation TEXT, stAddress1 TEXT, stationName TEXT, landMark TEXT, latitude NUMERIC, location TEXT)')\n",
    "    for station in r.json()['stationBeanList']:\n",
    "        cur.execute(sql,(station['id'],station['totalDocks'],station['city'],station['altitude'],station['stAddress2'],station['longitude'],station['postalCode'],station['testStation'],station['stAddress1'],station['stationName'],station['landMark'],station['latitude'],station['location']))\n",
    "    \n",
    "    cur.execute(\"CREATE TABLE available_bikes (execution_time INT, \" + \", \".join(idList)+\");\")"
   ]
  },
  {
   "cell_type": "code",
   "execution_count": 4,
   "metadata": {
    "collapsed": false
   },
   "outputs": [
    {
     "name": "stdout",
     "output_type": "stream",
     "text": [
      "Iteration: 0\n",
      "Iteration: 1\n",
      "Iteration: 2\n",
      "Iteration: 3\n",
      "Iteration: 4\n",
      "Iteration: 5\n",
      "Iteration: 6\n",
      "Iteration: 7\n",
      "Iteration: 8\n",
      "Iteration: 9\n",
      "Iteration: 10\n",
      "Iteration: 11\n",
      "Iteration: 12\n",
      "Iteration: 13\n",
      "Iteration: 14\n",
      "Iteration: 15\n",
      "Iteration: 16\n",
      "Iteration: 17\n",
      "Iteration: 18\n",
      "Iteration: 19\n",
      "Iteration: 20\n",
      "Iteration: 21\n",
      "Iteration: 22\n",
      "Iteration: 23\n",
      "Iteration: 24\n",
      "Iteration: 25\n",
      "Iteration: 26\n",
      "Iteration: 27\n",
      "Iteration: 28\n",
      "Iteration: 29\n",
      "Iteration: 30\n",
      "Iteration: 31\n",
      "Iteration: 32\n",
      "Iteration: 33\n",
      "Iteration: 34\n",
      "Iteration: 35\n",
      "Iteration: 36\n",
      "Iteration: 37\n",
      "Iteration: 38\n",
      "Iteration: 39\n",
      "Iteration: 40\n",
      "Iteration: 41\n",
      "Iteration: 42\n",
      "Iteration: 43\n",
      "Iteration: 44\n",
      "Iteration: 45\n",
      "Iteration: 46\n",
      "Iteration: 47\n",
      "Iteration: 48\n",
      "Iteration: 49\n",
      "Iteration: 50\n",
      "Iteration: 51\n",
      "Iteration: 52\n",
      "Iteration: 53\n",
      "Iteration: 54\n",
      "Iteration: 55\n",
      "Iteration: 56\n",
      "Iteration: 57\n",
      "Iteration: 58\n",
      "Iteration: 59\n"
     ]
    }
   ],
   "source": [
    "bikeid=collections.defaultdict(int)\n",
    "\n",
    "for itr in range(0,60):\n",
    "    print('Iteration: %d' % itr)\n",
    "    #Pull JSON data from CitiBike website\n",
    "    r = requests.get('http://www.citibikenyc.com/stations/json')\n",
    "    \n",
    "    #Pull execution time\n",
    "    exec_time = parse(r.json()['executionTime'])\n",
    "\n",
    "    #Create dictionary for available bikes per station\n",
    "    for station in r.json()['stationBeanList']:\n",
    "        bikeid[station['id']] = station['availableBikes']\n",
    "\n",
    "    with con:\n",
    "        #Insert execution time into database\n",
    "        cur.execute('INSERT INTO available_bikes (execution_time) VALUES (?)', (exec_time.strftime(\"%Y%m%d_%H%M%S\"),))\n",
    "\n",
    "        #Insert available bikes per station into database\n",
    "        for key,value in bikeid.items():\n",
    "            cur.execute('UPDATE available_bikes SET _' + str(key) + ' = ' + str(value) + \" WHERE execution_time = \" + \"'\"+exec_time.strftime(\"%Y%m%d_%H%M%S\")+\"'\"+\";\")\n",
    "    \n",
    "    #Pause for 60 seconds till next iteration\n",
    "    time.sleep(60)"
   ]
  },
  {
   "cell_type": "code",
   "execution_count": 7,
   "metadata": {
    "collapsed": false
   },
   "outputs": [
    {
     "name": "stdout",
     "output_type": "stream",
     "text": [
      "The most active station is station id 490 at 8 Ave & W 33 St (latitude: 40.751551 longitude: -73.993934)\n",
      "\n",
      "With 281 bicycles coming and going in the hour between 2016-07-22 17:55:45 and 2016-07-22 18:01:31\n"
     ]
    },
    {
     "data": {
      "text/plain": [
       "<matplotlib.text.Text at 0xa555400>"
      ]
     },
     "execution_count": 7,
     "metadata": {},
     "output_type": "execute_result"
    },
    {
     "data": {
      "image/png": "[encoded data removed]",
      "text/plain": [
       "<matplotlib.figure.Figure at 0xa5445f8>"
      ]
     },
     "metadata": {},
     "output_type": "display_data"
    }
   ],
   "source": [
    "#Pull bike data from database\n",
    "bikedata = pd.read_sql_query(\"SELECT * FROM available_bikes ORDER BY execution_time\",con,index_col='execution_time')\n",
    "\n",
    "#Find station activity over an hour\n",
    "hourdelta=collections.defaultdict(int)\n",
    "for key,val in bikedata.iteritems():      \n",
    "    hourdelta[int(key.replace(\"_\",\"\"))] = sum([abs(val[i]-val[i-1]) for i in range(1,len(val))])\n",
    "\n",
    "#Pull specific station data from database\n",
    "data=cur.execute(\"SELECT id, stationname, latitude, longitude FROM citibike_reference WHERE id = ?\", (max(hourdelta, key=hourdelta.get),)).fetchone()\n",
    "\n",
    "print('The most active station is station id %s at %s (latitude: %s longitude: %s)\\n' % data)\n",
    "print('With %d bicycles coming and going in the hour between %s and %s' % (hourdelta[data[0]],datetime.strptime(bikedata.index[0],\"%Y%m%d_%H%M%S\"),datetime.strptime(bikedata.index[1],\"%Y%m%d_%H%M%S\")))\n",
    "\n",
    "plt.bar(hourdelta.keys(),hourdelta.values())\n",
    "plt.title('Station Activity')\n",
    "plt.xlabel('Station Number')\n",
    "plt.ylabel('Number of Bikes')"
   ]
  }
 ],
 "metadata": {
  "anaconda-cloud": {},
  "kernelspec": {
   "display_name": "Python [Root]",
   "language": "python",
   "name": "Python [Root]"
  },
  "language_info": {
   "codemirror_mode": {
    "name": "ipython",
    "version": 3
   },
   "file_extension": ".py",
   "mimetype": "text/x-python",
   "name": "python",
   "nbconvert_exporter": "python",
   "pygments_lexer": "ipython3",
   "version": "3.5.1"
  }
 },
 "nbformat": 4,
 "nbformat_minor": 0
}
